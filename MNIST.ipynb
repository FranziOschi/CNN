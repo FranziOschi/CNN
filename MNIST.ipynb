{
 "cells": [
  {
   "cell_type": "code",
   "execution_count": 1,
   "metadata": {},
   "outputs": [
    {
     "name": "stderr",
     "output_type": "stream",
     "text": [
      "/Users/franzi/anaconda2/lib/python2.7/site-packages/h5py/__init__.py:36: FutureWarning: Conversion of the second argument of issubdtype from `float` to `np.floating` is deprecated. In future, it will be treated as `np.float64 == np.dtype(float).type`.\n",
      "  from ._conv import register_converters as _register_converters\n",
      "Using TensorFlow backend.\n"
     ]
    }
   ],
   "source": [
    "import numpy as np\n",
    "import matplotlib.pyplot as plt\n",
    "\n",
    "import keras\n",
    "from keras.datasets import mnist\n",
    "from keras import backend as k\n",
    "from keras import Sequential\n",
    "from keras.layers import Conv2D, MaxPooling2D, Dropout, Flatten, Dense, AveragePooling2D"
   ]
  },
  {
   "cell_type": "code",
   "execution_count": 2,
   "metadata": {},
   "outputs": [],
   "source": [
    "#load mnist dataset\n",
    "(X_train, Y_train), (X_test, Y_test) = mnist.load_data() #everytime loading data won't be so easy :)"
   ]
  },
  {
   "cell_type": "code",
   "execution_count": 3,
   "metadata": {},
   "outputs": [],
   "source": [
    "#Visualizing the data\n",
    "#sample = X_train.iloc[10, :]\n",
    "#sample = sample.reshape([28,28])\n",
    "#plt.imshow(sample, cmap='gray')\n",
    "\n",
    "X_train = np.array(X_train)\n",
    "X_test = np.array(X_test)\n",
    "\n",
    "#Reshape the training and test set\n",
    "X_train = X_train.reshape(X_train.shape[0], 28, 28, 1)\n",
    "X_test = X_test.reshape(X_test.shape[0], 28, 28, 1)\n",
    "\n",
    "#Padding the images by 2 pixels since in the paper input images were 32x32\n",
    "X_train = np.pad(X_train, ((0,0),(2,2),(2,2),(0,0)), 'constant')\n",
    "X_test = np.pad(X_test, ((0,0),(2,2),(2,2),(0,0)), 'constant')\n",
    "\n",
    "#Standardization\n",
    "mean_px = X_train.mean().astype(np.float32)\n",
    "std_px = X_train.std().astype(np.float32)\n",
    "X_train = (X_train - mean_px)/(std_px)\n",
    "\n",
    "#One-hot encoding the labels\n",
    "from keras.utils.np_utils import to_categorical\n",
    "Y_train = to_categorical(Y_train, num_classes=10)\n",
    "Y_test = to_categorical(Y_test, num_classes=10)"
   ]
  },
  {
   "cell_type": "code",
   "execution_count": 4,
   "metadata": {},
   "outputs": [
    {
     "data": {
      "text/plain": [
       "array([[0., 0., 0., ..., 1., 0., 0.],\n",
       "       [0., 0., 1., ..., 0., 0., 0.],\n",
       "       [0., 1., 0., ..., 0., 0., 0.],\n",
       "       ...,\n",
       "       [0., 0., 0., ..., 0., 0., 0.],\n",
       "       [0., 0., 0., ..., 0., 0., 0.],\n",
       "       [0., 0., 0., ..., 0., 0., 0.]])"
      ]
     },
     "execution_count": 4,
     "metadata": {},
     "output_type": "execute_result"
    }
   ],
   "source": [
    "Y_test"
   ]
  },
  {
   "cell_type": "code",
   "execution_count": 5,
   "metadata": {},
   "outputs": [
    {
     "data": {
      "image/png": "[encoded data removed]",
      "text/plain": [
       "<Figure size 432x288 with 9 Axes>"
      ]
     },
     "metadata": {},
     "output_type": "display_data"
    }
   ],
   "source": [
    "for i in range(9):\n",
    "    plt.subplot(3,3,i+1)\n",
    "    plt.imshow(X_train[i,:,:,0])"
   ]
  },
  {
   "cell_type": "markdown",
   "metadata": {},
   "source": [
    "#### LeNet-5"
   ]
  },
  {
   "cell_type": "code",
   "execution_count": 6,
   "metadata": {},
   "outputs": [],
   "source": [
    "##model building\n",
    "model = Sequential()\n",
    "\n",
    "#model.add(Conv2D(1, kernel_size = (1,1), input_shape=input_shape, padding='valid'))\n",
    "\n",
    "model.add(Conv2D(filters = 6, kernel_size = 5, strides = 1, activation='tanh', input_shape = (32,32,1)))\n",
    "\n",
    "model.add(AveragePooling2D(pool_size= 2, strides = 2))\n",
    "\n",
    "model.add(Conv2D(filters = 16, kernel_size = 5, strides = 1, activation='tanh', input_shape = (14,14,6)))\n",
    "\n",
    "model.add(AveragePooling2D(pool_size= 2, strides = 2))\n",
    "\n",
    "model.add(Conv2D(filters = 120, kernel_size = 5, strides = 1, activation='tanh'))\n",
    "\n",
    "model.add(Flatten())\n",
    "\n",
    "#model.add(Dense(units = 120, activation='tanh'))\n",
    "\n",
    "model.add(Dense(units = 84, activation='tanh'))\n",
    "\n",
    "model.add(Dense(units = 10, activation = 'softmax'))"
   ]
  },
  {
   "cell_type": "code",
   "execution_count": 7,
   "metadata": {},
   "outputs": [],
   "source": [
    "model.compile(optimizer='adam',\n",
    "              loss='categorical_crossentropy',\n",
    "              metrics=['accuracy'])"
   ]
  },
  {
   "cell_type": "code",
   "execution_count": 8,
   "metadata": {},
   "outputs": [
    {
     "name": "stdout",
     "output_type": "stream",
     "text": [
      "Train on 60000 samples, validate on 10000 samples\n",
      "Epoch 1/10\n",
      "60000/60000 [==============================] - 44s 727us/step - loss: 0.2761 - acc: 0.9190 - val_loss: 0.2819 - val_acc: 0.9142\n",
      "Epoch 2/10\n",
      "60000/60000 [==============================] - 43s 723us/step - loss: 0.0785 - acc: 0.9764 - val_loss: 0.1504 - val_acc: 0.9534\n",
      "Epoch 3/10\n",
      "60000/60000 [==============================] - 45s 744us/step - loss: 0.0542 - acc: 0.9836 - val_loss: 0.1165 - val_acc: 0.9637\n",
      "Epoch 4/10\n",
      "60000/60000 [==============================] - 51s 858us/step - loss: 0.0428 - acc: 0.9869 - val_loss: 0.1516 - val_acc: 0.9516\n",
      "Epoch 5/10\n",
      "60000/60000 [==============================] - 58s 965us/step - loss: 0.0339 - acc: 0.9893 - val_loss: 0.2256 - val_acc: 0.9373\n",
      "Epoch 6/10\n",
      "60000/60000 [==============================] - 57s 945us/step - loss: 0.0290 - acc: 0.9909 - val_loss: 0.1600 - val_acc: 0.9515\n",
      "Epoch 7/10\n",
      "60000/60000 [==============================] - 53s 888us/step - loss: 0.0234 - acc: 0.9929 - val_loss: 0.1658 - val_acc: 0.9505\n",
      "Epoch 8/10\n",
      "60000/60000 [==============================] - 49s 822us/step - loss: 0.0214 - acc: 0.9933 - val_loss: 0.1875 - val_acc: 0.9425\n",
      "Epoch 9/10\n",
      "60000/60000 [==============================] - 47s 791us/step - loss: 0.0171 - acc: 0.9943 - val_loss: 0.2248 - val_acc: 0.9336\n",
      "Epoch 10/10\n",
      "60000/60000 [==============================] - 45s 744us/step - loss: 0.0150 - acc: 0.9951 - val_loss: 0.1872 - val_acc: 0.9451\n"
     ]
    },
    {
     "data": {
      "text/plain": [
       "<keras.callbacks.History at 0x10c836ed0>"
      ]
     },
     "execution_count": 8,
     "metadata": {},
     "output_type": "execute_result"
    }
   ],
   "source": [
    "batch_size = 128\n",
    "\n",
    "model.fit(X_train ,Y_train, batch_size=batch_size, epochs = 10, validation_data=(X_test, Y_test))"
   ]
  },
  {
   "cell_type": "code",
   "execution_count": 9,
   "metadata": {},
   "outputs": [
    {
     "name": "stdout",
     "output_type": "stream",
     "text": [
      "('Test loss:', 0.1871767867859453)\n",
      "('Test accuracy:', 0.9451)\n"
     ]
    }
   ],
   "source": [
    "score = model.evaluate(X_test, Y_test, verbose=0)\n",
    "print('Test loss:', score[0])\n",
    "print('Test accuracy:', score[1])"
   ]
  }
 ],
 "metadata": {
  "kernelspec": {
   "display_name": "Python 2",
   "language": "python",
   "name": "python2"
  }
 },
 "nbformat": 4,
 "nbformat_minor": 2
}
